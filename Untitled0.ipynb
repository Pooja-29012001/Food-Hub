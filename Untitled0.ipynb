{
  "nbformat": 4,
  "nbformat_minor": 0,
  "metadata": {
    "colab": {
      "name": "Untitled0.ipynb",
      "provenance": [],
      "authorship_tag": "ABX9TyM16tWdmEsgELYBN/LtSUsu",
      "include_colab_link": true
    },
    "kernelspec": {
      "name": "python3",
      "display_name": "Python 3"
    },
    "language_info": {
      "name": "python"
    }
  },
  "cells": [
    {
      "cell_type": "markdown",
      "metadata": {
        "id": "view-in-github",
        "colab_type": "text"
      },
      "source": [
        "<a href=\"https://colab.research.google.com/github/Pooja-29012001/Food-Hub/blob/main/Untitled0.ipynb\" target=\"_parent\"><img src=\"https://colab.research.google.com/assets/colab-badge.svg\" alt=\"Open In Colab\"/></a>"
      ]
    },
    {
      "cell_type": "code",
      "source": [
        "from nltk import NaiveBayesClassifier as nbc\n",
        "\n",
        "\n",
        "from nltk.tokenize import word_tokenize\n",
        "\n",
        "\n",
        "from itertools import chain\n",
        "\n",
        "\n",
        "import csv\n",
        "\n",
        "\n",
        "\n",
        "with open('trainingdata.csv','r') as csvinput:\n",
        "\n",
        "\n",
        "    reader=csv.reader(csvinput,delimiter=\",\")\n",
        "\n",
        "\n",
        "    rownum = 0 \n",
        "\n",
        "\n",
        "    training_data = []\n",
        "\n",
        "\n",
        "\n",
        "    for row in reader:\n",
        "\n",
        "\n",
        "        training_data.append (row)\n",
        "\n",
        "\n",
        "        rownum += 1\n",
        "\n",
        "\n",
        "\n",
        "vocabulary = set(chain(*[word_tokenize(i[0].lower()) for i in training_data]))\n",
        "\n",
        "\n",
        "\n",
        "feature_set = [({i:(i in word_tokenize(sentence.lower())) for i in vocabulary},tag) for sentence, tag in training_data]\n",
        "\n",
        "\n",
        "\n",
        "classifier = nbc.train(feature_set)\n",
        "\n",
        "\n",
        "\n",
        "with open('testdata.csv','r') as csvinput:\n",
        "\n",
        "\n",
        "    with open('data.csv', 'w') as csvoutput:\n",
        "\n",
        "\n",
        "        writer = csv.writer(csvoutput, lineterminator='\\n')\n",
        "\n",
        "\n",
        "        reader1 = csv.reader(csvinput)\n",
        "\n",
        "\n",
        "\n",
        "        all = []\n",
        "\n",
        "\n",
        "        #row = next(reader1)\n",
        "\n",
        "\n",
        "        \n",
        "\n",
        "\n",
        "\n",
        "        for row in reader1:\n",
        "\n",
        "\n",
        "            test_sentence = row[1]\n",
        "\n",
        "\n",
        "            featurized_test_sentence =  {i:(i in word_tokenize(test_sentence.lower())) for i in vocabulary}\n",
        "\n",
        "\n",
        "            print (\"test_sent:\",test_sentence)\n",
        "\n",
        "\n",
        "            print (\"tag:\",classifier.classify(featurized_test_sentence))\n",
        "\n",
        "\n",
        "            row.append(classifier.classify(featurized_test_sentence))\n",
        "\n",
        "\n",
        "            all.append(row)\n",
        "\n",
        "\n",
        "        writer.writerows(all)\n"
      ],
      "metadata": {
        "colab": {
          "base_uri": "https://localhost:8080/"
        },
        "id": "Ql2UibQv7t2y",
        "outputId": "652066e1-4ee3-4c87-e99b-947c5bc84109"
      },
      "execution_count": null,
      "outputs": [
        {
          "output_type": "stream",
          "name": "stdout",
          "text": [
            "test_sent: nice good great wonderful adipoli\n",
            "tag: positive\n",
            "test_sent: bad worst poor cry low\n",
            "tag: negative\n",
            "test_sent: charm happy\n",
            "tag: positive\n"
          ]
        }
      ]
    }
  ]
}